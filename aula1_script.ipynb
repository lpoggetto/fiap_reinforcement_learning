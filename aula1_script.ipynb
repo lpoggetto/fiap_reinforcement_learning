{
  "nbformat": 4,
  "nbformat_minor": 0,
  "metadata": {
    "colab": {
      "provenance": [],
      "gpuType": "T4",
      "authorship_tag": "ABX9TyO8xOfPZXN8v4/3FTN/95W1",
      "include_colab_link": true
    },
    "kernelspec": {
      "name": "python3",
      "display_name": "Python 3"
    },
    "language_info": {
      "name": "python"
    },
    "accelerator": "GPU"
  },
  "cells": [
    {
      "cell_type": "markdown",
      "metadata": {
        "id": "view-in-github",
        "colab_type": "text"
      },
      "source": [
        "<a href=\"https://colab.research.google.com/github/lpoggetto/fiap_reinforcement_learning/blob/main/aula1_script.ipynb\" target=\"_parent\"><img src=\"https://colab.research.google.com/assets/colab-badge.svg\" alt=\"Open In Colab\"/></a>"
      ]
    },
    {
      "cell_type": "code",
      "execution_count": null,
      "metadata": {
        "colab": {
          "base_uri": "https://localhost:8080/"
        },
        "id": "mNq9IWHHj1ud",
        "outputId": "84437e91-ea22-4b00-ca25-eb656654b920"
      },
      "outputs": [
        {
          "output_type": "stream",
          "name": "stdout",
          "text": [
            "Requirement already satisfied: gym in /usr/local/lib/python3.10/dist-packages (0.25.2)\n",
            "Requirement already satisfied: numpy>=1.18.0 in /usr/local/lib/python3.10/dist-packages (from gym) (1.26.4)\n",
            "Requirement already satisfied: cloudpickle>=1.2.0 in /usr/local/lib/python3.10/dist-packages (from gym) (3.1.0)\n",
            "Requirement already satisfied: gym-notices>=0.0.4 in /usr/local/lib/python3.10/dist-packages (from gym) (0.0.8)\n",
            "Requirement already satisfied: numpy in /usr/local/lib/python3.10/dist-packages (1.26.4)\n"
          ]
        }
      ],
      "source": [
        "# instalar bibilioteca do OpenAI Gym\n",
        "\n",
        "!pip install gym\n",
        "!pip install numpy"
      ]
    },
    {
      "cell_type": "code",
      "source": [
        "# importanto pacotes que serao utilizados\n",
        "import gym\n",
        "import numpy as np\n",
        "import random\n",
        "from IPython.display import clear_output, display\n",
        "from time import sleep"
      ],
      "metadata": {
        "colab": {
          "base_uri": "https://localhost:8080/"
        },
        "id": "8zMW_ifFvFXv",
        "outputId": "55aac62e-86d2-46b7-8ca6-9d66cea2d362"
      },
      "execution_count": null,
      "outputs": [
        {
          "output_type": "stream",
          "name": "stderr",
          "text": [
            "/usr/local/lib/python3.10/dist-packages/ipykernel/ipkernel.py:283: DeprecationWarning: `should_run_async` will not call `transform_cell` automatically in the future. Please pass the result to `transformed_cell` argument and any exception that happen during thetransform in `preprocessing_exc_tuple` in IPython 7.17 and above.\n",
            "  and should_run_async(code)\n"
          ]
        }
      ]
    },
    {
      "cell_type": "code",
      "source": [
        "env = gym.make('Taxi-v3')"
      ],
      "metadata": {
        "colab": {
          "base_uri": "https://localhost:8080/"
        },
        "id": "gYwqHI-qvluL",
        "outputId": "5a0e20f8-3203-4307-ba3c-9c97742f7d10"
      },
      "execution_count": null,
      "outputs": [
        {
          "output_type": "stream",
          "name": "stderr",
          "text": [
            "/usr/local/lib/python3.10/dist-packages/gym/core.py:317: DeprecationWarning: \u001b[33mWARN: Initializing wrapper in old step API which returns one bool instead of two. It is recommended to set `new_step_api=True` to use new step API. This will be the default behaviour in future.\u001b[0m\n",
            "  deprecation(\n",
            "/usr/local/lib/python3.10/dist-packages/gym/wrappers/step_api_compatibility.py:39: DeprecationWarning: \u001b[33mWARN: Initializing environment in old step API which returns one bool instead of two. It is recommended to set `new_step_api=True` to use new step API. This will be the default behaviour in future.\u001b[0m\n",
            "  deprecation(\n"
          ]
        }
      ]
    },
    {
      "cell_type": "code",
      "source": [
        "# Criando uma nova instancia do Taxi, e aferir o estado inicial\n",
        "\n",
        "state = env.reset() # Boas praticas de reset de ambiente\n",
        "\n",
        "print(f'Initiali State: {state}')"
      ],
      "metadata": {
        "colab": {
          "base_uri": "https://localhost:8080/"
        },
        "id": "XxUo6mXrvvZu",
        "outputId": "499e5a0a-185a-4ba8-d180-1c8ace74a80c"
      },
      "execution_count": null,
      "outputs": [
        {
          "output_type": "stream",
          "name": "stdout",
          "text": [
            "Initiali State: 442\n"
          ]
        }
      ]
    },
    {
      "cell_type": "code",
      "source": [
        "# Comportamento aleatorio\n",
        "\n",
        "num_steps = 99 # numero de passos do algoritmo\n",
        "\n",
        "for s in range(num_steps+1):\n",
        "\n",
        "  clear_output(wait=True)\n",
        "\n",
        "  print(f'step: {s} of {num_steps}')\n",
        "\n",
        "  action = env.action_space.sample()\n",
        "\n",
        "  env.step(action)\n",
        "\n",
        "  sleep(0.2)\n",
        "\n",
        "env.close()"
      ],
      "metadata": {
        "colab": {
          "base_uri": "https://localhost:8080/"
        },
        "id": "DvkoDbwfwL6l",
        "outputId": "dca1a314-40e2-40a6-d2be-666fb7bc54a1"
      },
      "execution_count": null,
      "outputs": [
        {
          "output_type": "stream",
          "name": "stdout",
          "text": [
            "step: 99 of 99\n"
          ]
        }
      ]
    },
    {
      "cell_type": "code",
      "source": [
        "# Q-Table implementation\n",
        "\n",
        "state_size = env.observation_space.n\n",
        "action_size = env.action_space.n\n",
        "\n",
        "q_table = np.zeros((state_size, action_size))\n",
        "\n",
        "print(f'Q-Table: {qtable}')"
      ],
      "metadata": {
        "colab": {
          "base_uri": "https://localhost:8080/"
        },
        "id": "QSQ_D3d-xL-s",
        "outputId": "31d92298-7d29-4193-b48b-0e5434ca6084"
      },
      "execution_count": null,
      "outputs": [
        {
          "output_type": "stream",
          "name": "stdout",
          "text": [
            "Q-Table: [[0. 0. 0. 0. 0. 0.]\n",
            " [0. 0. 0. 0. 0. 0.]\n",
            " [0. 0. 0. 0. 0. 0.]\n",
            " ...\n",
            " [0. 0. 0. 0. 0. 0.]\n",
            " [0. 0. 0. 0. 0. 0.]\n",
            " [0. 0. 0. 0. 0. 0.]]\n"
          ]
        }
      ]
    },
    {
      "cell_type": "code",
      "source": [
        "from types import new_class\n",
        "# Algoritmo Q-Learning\n",
        "\n",
        "learning_rate = 0.9\n",
        "discount_rate = 0.8\n",
        "\n",
        "reward = 10 # R_(t+1)\n",
        "state = env.observation_space.sample() #S_t\n",
        "action = env.action_space.sample() #A_t\n",
        "new_state = env.observation_space.sample() #S_(t+1)\n",
        "\n",
        "# implementacao da funcao q-learning\n",
        "\n",
        "q_table[state, action] = q_table[state, action] + learning_rate * (reward + discount_rate * np.max(q_table[new_state, :]) - q_table[state, action])\n",
        "\n",
        "print(f'Q-valor para (state,action), par ({state}, {action}: {q_table[state,action]})')"
      ],
      "metadata": {
        "colab": {
          "base_uri": "https://localhost:8080/"
        },
        "id": "2281-GbIyzQ5",
        "outputId": "8af388f1-c275-494c-f354-9da0cdebdf78"
      },
      "execution_count": null,
      "outputs": [
        {
          "output_type": "stream",
          "name": "stdout",
          "text": [
            "Q-valor para (state,action), par (352, 2: 9.0)\n"
          ]
        },
        {
          "output_type": "stream",
          "name": "stderr",
          "text": [
            "/usr/local/lib/python3.10/dist-packages/ipykernel/ipkernel.py:283: DeprecationWarning: `should_run_async` will not call `transform_cell` automatically in the future. Please pass the result to `transformed_cell` argument and any exception that happen during thetransform in `preprocessing_exc_tuple` in IPython 7.17 and above.\n",
            "  and should_run_async(code)\n"
          ]
        }
      ]
    },
    {
      "cell_type": "code",
      "source": [
        "# Exploration vs Exploitation\n",
        "\n",
        "# dummy variables\n",
        "episode = random.randint(0,500)\n",
        "q_table = np.random.randn(env.observation_space.sample(), env.action_space.sample())\n",
        "\n",
        "# hyperparameters\n",
        "epsilon = 1.0 # probabilidade explorar\n",
        "decay_rate = 0.01 # of epsilon\n",
        "\n",
        "if random.uniform(0,1) < epsilon:\n",
        "  # Exploration\n",
        "  action = env.action_space.sample()\n",
        "else:\n",
        "  # Exploitation\n",
        "  action = np.argmax(q_table[state,:])\n",
        "\n",
        "epsilon = np.exp(-decay_rate*episode)"
      ],
      "metadata": {
        "colab": {
          "base_uri": "https://localhost:8080/"
        },
        "id": "fBYDIEDRy5tn",
        "outputId": "65caede3-3845-442a-ba4a-089b9cf02f3a"
      },
      "execution_count": null,
      "outputs": [
        {
          "output_type": "stream",
          "name": "stderr",
          "text": [
            "/usr/local/lib/python3.10/dist-packages/ipykernel/ipkernel.py:283: DeprecationWarning: `should_run_async` will not call `transform_cell` automatically in the future. Please pass the result to `transformed_cell` argument and any exception that happen during thetransform in `preprocessing_exc_tuple` in IPython 7.17 and above.\n",
            "  and should_run_async(code)\n"
          ]
        }
      ]
    },
    {
      "cell_type": "code",
      "source": [],
      "metadata": {
        "id": "rZ29C2kX1IHy"
      },
      "execution_count": null,
      "outputs": []
    }
  ]
}